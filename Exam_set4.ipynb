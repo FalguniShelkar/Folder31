{
 "cells": [
  {
   "cell_type": "code",
   "execution_count": 1,
   "id": "abf7bd29",
   "metadata": {},
   "outputs": [],
   "source": [
    "import numpy as np\n",
    "import pandas as pd\n",
    "import matplotlib.pyplot as plt"
   ]
  },
  {
   "cell_type": "code",
   "execution_count": 4,
   "id": "3ed530d0",
   "metadata": {},
   "outputs": [
    {
     "data": {
      "text/html": [
       "<div>\n",
       "<style scoped>\n",
       "    .dataframe tbody tr th:only-of-type {\n",
       "        vertical-align: middle;\n",
       "    }\n",
       "\n",
       "    .dataframe tbody tr th {\n",
       "        vertical-align: top;\n",
       "    }\n",
       "\n",
       "    .dataframe thead th {\n",
       "        text-align: right;\n",
       "    }\n",
       "</style>\n",
       "<table border=\"1\" class=\"dataframe\">\n",
       "  <thead>\n",
       "    <tr style=\"text-align: right;\">\n",
       "      <th></th>\n",
       "      <th>year</th>\n",
       "      <th>month</th>\n",
       "      <th>day</th>\n",
       "      <th>dep_time</th>\n",
       "      <th>sched_dep_time</th>\n",
       "      <th>dep_delay</th>\n",
       "      <th>arr_time</th>\n",
       "      <th>sched_arr_time</th>\n",
       "      <th>arr_delay</th>\n",
       "      <th>carrier</th>\n",
       "      <th>flight</th>\n",
       "      <th>tailnum</th>\n",
       "      <th>origin</th>\n",
       "      <th>dest</th>\n",
       "      <th>air_time</th>\n",
       "      <th>distance</th>\n",
       "      <th>hour</th>\n",
       "      <th>minute</th>\n",
       "      <th>time_hour</th>\n",
       "    </tr>\n",
       "  </thead>\n",
       "  <tbody>\n",
       "    <tr>\n",
       "      <th>0</th>\n",
       "      <td>2013</td>\n",
       "      <td>1</td>\n",
       "      <td>1</td>\n",
       "      <td>1455</td>\n",
       "      <td>1459</td>\n",
       "      <td>-4</td>\n",
       "      <td>1655</td>\n",
       "      <td>1645</td>\n",
       "      <td>10.0</td>\n",
       "      <td>B6</td>\n",
       "      <td>1053</td>\n",
       "      <td>N203JB</td>\n",
       "      <td>JFK</td>\n",
       "      <td>PIT</td>\n",
       "      <td>87.0</td>\n",
       "      <td>340</td>\n",
       "      <td>14</td>\n",
       "      <td>59</td>\n",
       "      <td>01-01-2013 14:00</td>\n",
       "    </tr>\n",
       "    <tr>\n",
       "      <th>1</th>\n",
       "      <td>2013</td>\n",
       "      <td>1</td>\n",
       "      <td>1</td>\n",
       "      <td>1455</td>\n",
       "      <td>1500</td>\n",
       "      <td>-5</td>\n",
       "      <td>1753</td>\n",
       "      <td>1810</td>\n",
       "      <td>-17.0</td>\n",
       "      <td>DL</td>\n",
       "      <td>1997</td>\n",
       "      <td>N997DL</td>\n",
       "      <td>LGA</td>\n",
       "      <td>PBI</td>\n",
       "      <td>152.0</td>\n",
       "      <td>1035</td>\n",
       "      <td>15</td>\n",
       "      <td>0</td>\n",
       "      <td>01-01-2013 15:00</td>\n",
       "    </tr>\n",
       "    <tr>\n",
       "      <th>2</th>\n",
       "      <td>2013</td>\n",
       "      <td>1</td>\n",
       "      <td>1</td>\n",
       "      <td>1456</td>\n",
       "      <td>1500</td>\n",
       "      <td>-4</td>\n",
       "      <td>1649</td>\n",
       "      <td>1632</td>\n",
       "      <td>17.0</td>\n",
       "      <td>UA</td>\n",
       "      <td>685</td>\n",
       "      <td>N802UA</td>\n",
       "      <td>LGA</td>\n",
       "      <td>ORD</td>\n",
       "      <td>140.0</td>\n",
       "      <td>733</td>\n",
       "      <td>15</td>\n",
       "      <td>0</td>\n",
       "      <td>01-01-2013 15:00</td>\n",
       "    </tr>\n",
       "    <tr>\n",
       "      <th>3</th>\n",
       "      <td>2013</td>\n",
       "      <td>1</td>\n",
       "      <td>1</td>\n",
       "      <td>1456</td>\n",
       "      <td>1455</td>\n",
       "      <td>1</td>\n",
       "      <td>1830</td>\n",
       "      <td>1813</td>\n",
       "      <td>17.0</td>\n",
       "      <td>UA</td>\n",
       "      <td>1134</td>\n",
       "      <td>N24212</td>\n",
       "      <td>EWR</td>\n",
       "      <td>AUS</td>\n",
       "      <td>252.0</td>\n",
       "      <td>1504</td>\n",
       "      <td>14</td>\n",
       "      <td>55</td>\n",
       "      <td>01-01-2013 14:00</td>\n",
       "    </tr>\n",
       "    <tr>\n",
       "      <th>4</th>\n",
       "      <td>2013</td>\n",
       "      <td>1</td>\n",
       "      <td>1</td>\n",
       "      <td>1457</td>\n",
       "      <td>1500</td>\n",
       "      <td>-3</td>\n",
       "      <td>1758</td>\n",
       "      <td>1815</td>\n",
       "      <td>-17.0</td>\n",
       "      <td>UA</td>\n",
       "      <td>379</td>\n",
       "      <td>N401UA</td>\n",
       "      <td>EWR</td>\n",
       "      <td>RSW</td>\n",
       "      <td>166.0</td>\n",
       "      <td>1068</td>\n",
       "      <td>15</td>\n",
       "      <td>0</td>\n",
       "      <td>01-01-2013 15:00</td>\n",
       "    </tr>\n",
       "  </tbody>\n",
       "</table>\n",
       "</div>"
      ],
      "text/plain": [
       "   year  month  day  dep_time  sched_dep_time  dep_delay  arr_time  \\\n",
       "0  2013      1    1      1455            1459         -4      1655   \n",
       "1  2013      1    1      1455            1500         -5      1753   \n",
       "2  2013      1    1      1456            1500         -4      1649   \n",
       "3  2013      1    1      1456            1455          1      1830   \n",
       "4  2013      1    1      1457            1500         -3      1758   \n",
       "\n",
       "   sched_arr_time  arr_delay carrier  flight tailnum origin dest  air_time  \\\n",
       "0            1645       10.0      B6    1053  N203JB    JFK  PIT      87.0   \n",
       "1            1810      -17.0      DL    1997  N997DL    LGA  PBI     152.0   \n",
       "2            1632       17.0      UA     685  N802UA    LGA  ORD     140.0   \n",
       "3            1813       17.0      UA    1134  N24212    EWR  AUS     252.0   \n",
       "4            1815      -17.0      UA     379  N401UA    EWR  RSW     166.0   \n",
       "\n",
       "   distance  hour  minute         time_hour  \n",
       "0       340    14      59  01-01-2013 14:00  \n",
       "1      1035    15       0  01-01-2013 15:00  \n",
       "2       733    15       0  01-01-2013 15:00  \n",
       "3      1504    14      55  01-01-2013 14:00  \n",
       "4      1068    15       0  01-01-2013 15:00  "
      ]
     },
     "execution_count": 4,
     "metadata": {},
     "output_type": "execute_result"
    }
   ],
   "source": [
    "# Question 1 - Load data set using pandas function and print last 5 records.\n",
    "flightdf = pd.read_csv('flight.csv')\n",
    "flightdf.head()"
   ]
  },
  {
   "cell_type": "code",
   "execution_count": 5,
   "id": "fd99177b",
   "metadata": {},
   "outputs": [
    {
     "data": {
      "text/plain": [
       "EWR    74\n",
       "JFK    73\n",
       "LGA    52\n",
       "Name: origin, dtype: int64"
      ]
     },
     "execution_count": 5,
     "metadata": {},
     "output_type": "execute_result"
    }
   ],
   "source": [
    "# Question 2 - Print the number of flight from one point to another. \n",
    "flightdf.origin.value_counts()"
   ]
  },
  {
   "cell_type": "code",
   "execution_count": 6,
   "id": "4b04fde2",
   "metadata": {},
   "outputs": [
    {
     "data": {
      "text/plain": [
       "MCO    13\n",
       "ORD    13\n",
       "ATL    10\n",
       "FLL     9\n",
       "LAX     8\n",
       "DEN     8\n",
       "CLT     7\n",
       "TPA     6\n",
       "DFW     6\n",
       "SFO     6\n",
       "RSW     5\n",
       "PBI     5\n",
       "RDU     5\n",
       "BOS     5\n",
       "MIA     4\n",
       "DCA     4\n",
       "IAD     4\n",
       "PIT     4\n",
       "PHX     4\n",
       "STL     4\n",
       "SJU     4\n",
       "CMH     4\n",
       "SAN     4\n",
       "IAH     4\n",
       "LAS     3\n",
       "BUF     3\n",
       "MDW     3\n",
       "DTW     3\n",
       "AUS     3\n",
       "MSP     3\n",
       "BNA     2\n",
       "MCI     2\n",
       "CLE     2\n",
       "CVG     2\n",
       "MKE     2\n",
       "XNA     2\n",
       "IND     2\n",
       "SLC     1\n",
       "ALB     1\n",
       "DAY     1\n",
       "SEA     1\n",
       "SDF     1\n",
       "SAT     1\n",
       "BTV     1\n",
       "HOU     1\n",
       "ORF     1\n",
       "EGE     1\n",
       "GSO     1\n",
       "MHT     1\n",
       "GRR     1\n",
       "RIC     1\n",
       "ROC     1\n",
       "SYR     1\n",
       "PHL     1\n",
       "SRQ     1\n",
       "BWI     1\n",
       "GSP     1\n",
       "PDX     1\n",
       "Name: dest, dtype: int64"
      ]
     },
     "execution_count": 6,
     "metadata": {},
     "output_type": "execute_result"
    }
   ],
   "source": [
    "flightdf.dest.value_counts()"
   ]
  },
  {
   "cell_type": "code",
   "execution_count": 5,
   "id": "415f4d37",
   "metadata": {},
   "outputs": [
    {
     "ename": "NameError",
     "evalue": "name 'flightdf' is not defined",
     "output_type": "error",
     "traceback": [
      "\u001b[0;31m---------------------------------------------------------------------------\u001b[0m",
      "\u001b[0;31mNameError\u001b[0m                                 Traceback (most recent call last)",
      "Input \u001b[0;32mIn [5]\u001b[0m, in \u001b[0;36m<cell line: 2>\u001b[0;34m()\u001b[0m\n\u001b[1;32m      1\u001b[0m \u001b[38;5;66;03m# Question 3 - Find the best airline in terms of departure\u001b[39;00m\n\u001b[0;32m----> 2\u001b[0m delays \u001b[38;5;241m=\u001b[39m \u001b[43mflightdf\u001b[49m[\u001b[38;5;124m'\u001b[39m\u001b[38;5;124mdep_delay\u001b[39m\u001b[38;5;124m'\u001b[39m]\n\u001b[1;32m      3\u001b[0m mindelay \u001b[38;5;241m=\u001b[39m \u001b[38;5;28mmin\u001b[39m(delays)\n\u001b[1;32m      4\u001b[0m bestFlight \u001b[38;5;241m=\u001b[39m flightdf[flightdf[\u001b[38;5;124m'\u001b[39m\u001b[38;5;124mdep_delay\u001b[39m\u001b[38;5;124m'\u001b[39m]\u001b[38;5;241m==\u001b[39mmindelay]\n",
      "\u001b[0;31mNameError\u001b[0m: name 'flightdf' is not defined"
     ]
    }
   ],
   "source": [
    "# Question 3 - Find the best airline in terms of departure\n",
    "delays = flightdf['dep_delay']\n",
    "mindelay = min(delays)\n",
    "bestFlight = flightdf[flightdf['dep_delay']==mindelay]\n",
    "bestFlight\n"
   ]
  },
  {
   "cell_type": "code",
   "execution_count": 6,
   "id": "bbae6c80",
   "metadata": {},
   "outputs": [
    {
     "ename": "NameError",
     "evalue": "name 'flightdf' is not defined",
     "output_type": "error",
     "traceback": [
      "\u001b[0;31m---------------------------------------------------------------------------\u001b[0m",
      "\u001b[0;31mNameError\u001b[0m                                 Traceback (most recent call last)",
      "Input \u001b[0;32mIn [6]\u001b[0m, in \u001b[0;36m<cell line: 2>\u001b[0;34m()\u001b[0m\n\u001b[1;32m      1\u001b[0m \u001b[38;5;66;03m# Question 4 - Create new column speed by calculating speed of airplane using distance and time taken to 5 travel.\u001b[39;00m\n\u001b[0;32m----> 2\u001b[0m flightdf[\u001b[38;5;124m'\u001b[39m\u001b[38;5;124mspeed (km/min)\u001b[39m\u001b[38;5;124m'\u001b[39m]\u001b[38;5;241m=\u001b[39m\u001b[43mflightdf\u001b[49m[\u001b[38;5;124m'\u001b[39m\u001b[38;5;124mdistance\u001b[39m\u001b[38;5;124m'\u001b[39m]\u001b[38;5;241m/\u001b[39m((flightdf[\u001b[38;5;124m'\u001b[39m\u001b[38;5;124mhour\u001b[39m\u001b[38;5;124m'\u001b[39m]\u001b[38;5;241m*\u001b[39m\u001b[38;5;241m60\u001b[39m)\u001b[38;5;241m+\u001b[39mflightdf[\u001b[38;5;124m'\u001b[39m\u001b[38;5;124mminute\u001b[39m\u001b[38;5;124m'\u001b[39m])\n",
      "\u001b[0;31mNameError\u001b[0m: name 'flightdf' is not defined"
     ]
    }
   ],
   "source": [
    "# Question 4 - Create new column speed by calculating speed of airplane using distance and time taken to 5 travel.\n",
    "flightdf['speed (km/min)']=flightdf['distance']/((flightdf['hour']*60)+flightdf['minute'])"
   ]
  },
  {
   "cell_type": "code",
   "execution_count": 7,
   "id": "d2d7bf51",
   "metadata": {},
   "outputs": [
    {
     "ename": "NameError",
     "evalue": "name 'flightdf' is not defined",
     "output_type": "error",
     "traceback": [
      "\u001b[0;31m---------------------------------------------------------------------------\u001b[0m",
      "\u001b[0;31mNameError\u001b[0m                                 Traceback (most recent call last)",
      "Input \u001b[0;32mIn [7]\u001b[0m, in \u001b[0;36m<cell line: 2>\u001b[0;34m()\u001b[0m\n\u001b[1;32m      1\u001b[0m \u001b[38;5;66;03m# Question 5 - Create a data frame containing total number of flights going to a particular destination\u001b[39;00m\n\u001b[0;32m----> 2\u001b[0m destinations \u001b[38;5;241m=\u001b[39m \u001b[43mflightdf\u001b[49m[\u001b[38;5;124m'\u001b[39m\u001b[38;5;124mdest\u001b[39m\u001b[38;5;124m'\u001b[39m]\u001b[38;5;241m.\u001b[39munique()\n\u001b[1;32m      3\u001b[0m destinations\n",
      "\u001b[0;31mNameError\u001b[0m: name 'flightdf' is not defined"
     ]
    }
   ],
   "source": [
    "# Question 5 - Create a data frame containing total number of flights going to a particular destination\n",
    "destinations = flightdf['dest'].unique()\n",
    "destinations"
   ]
  },
  {
   "cell_type": "code",
   "execution_count": 8,
   "id": "3dd8ea0d",
   "metadata": {},
   "outputs": [
    {
     "ename": "NameError",
     "evalue": "name 'destinations' is not defined",
     "output_type": "error",
     "traceback": [
      "\u001b[0;31m---------------------------------------------------------------------------\u001b[0m",
      "\u001b[0;31mNameError\u001b[0m                                 Traceback (most recent call last)",
      "Input \u001b[0;32mIn [8]\u001b[0m, in \u001b[0;36m<cell line: 2>\u001b[0;34m()\u001b[0m\n\u001b[1;32m      1\u001b[0m destdict\u001b[38;5;241m=\u001b[39m{}\n\u001b[0;32m----> 2\u001b[0m \u001b[38;5;28;01mfor\u001b[39;00m destination \u001b[38;5;129;01min\u001b[39;00m \u001b[43mdestinations\u001b[49m:\n\u001b[1;32m      3\u001b[0m     counts \u001b[38;5;241m=\u001b[39m \u001b[38;5;28mlen\u001b[39m(flightdf[flightdf[\u001b[38;5;124m'\u001b[39m\u001b[38;5;124mdest\u001b[39m\u001b[38;5;124m'\u001b[39m]\u001b[38;5;241m==\u001b[39mdestination])\n\u001b[1;32m      4\u001b[0m     destdict[destination]\u001b[38;5;241m=\u001b[39mcounts\n",
      "\u001b[0;31mNameError\u001b[0m: name 'destinations' is not defined"
     ]
    }
   ],
   "source": [
    "destdict={}\n",
    "for destination in destinations:\n",
    "    counts = len(flightdf[flightdf['dest']==destination])\n",
    "    destdict[destination]=counts\n",
    "    print(f\"Destination is {destination} : {counts} no of flights\")"
   ]
  },
  {
   "cell_type": "code",
   "execution_count": 9,
   "id": "11a4e07c",
   "metadata": {},
   "outputs": [
    {
     "ename": "NameError",
     "evalue": "name 'flightdf' is not defined",
     "output_type": "error",
     "traceback": [
      "\u001b[0;31m---------------------------------------------------------------------------\u001b[0m",
      "\u001b[0;31mNameError\u001b[0m                                 Traceback (most recent call last)",
      "Input \u001b[0;32mIn [9]\u001b[0m, in \u001b[0;36m<cell line: 2>\u001b[0;34m()\u001b[0m\n\u001b[1;32m      1\u001b[0m \u001b[38;5;66;03m# Question 6 - Find the size and shape of data set \u001b[39;00m\n\u001b[0;32m----> 2\u001b[0m \u001b[38;5;28mprint\u001b[39m(\u001b[43mflightdf\u001b[49m\u001b[38;5;241m.\u001b[39mshape)\n\u001b[1;32m      3\u001b[0m \u001b[38;5;28mprint\u001b[39m(flightdf\u001b[38;5;241m.\u001b[39msize)\n",
      "\u001b[0;31mNameError\u001b[0m: name 'flightdf' is not defined"
     ]
    }
   ],
   "source": [
    "# Question 6 - Find the size and shape of data set \n",
    "print(flightdf.shape)\n",
    "print(flightdf.size)"
   ]
  },
  {
   "cell_type": "code",
   "execution_count": 10,
   "id": "fcf2e63d",
   "metadata": {},
   "outputs": [
    {
     "ename": "NameError",
     "evalue": "name 'flightdf' is not defined",
     "output_type": "error",
     "traceback": [
      "\u001b[0;31m---------------------------------------------------------------------------\u001b[0m",
      "\u001b[0;31mNameError\u001b[0m                                 Traceback (most recent call last)",
      "Input \u001b[0;32mIn [10]\u001b[0m, in \u001b[0;36m<cell line: 2>\u001b[0;34m()\u001b[0m\n\u001b[1;32m      1\u001b[0m \u001b[38;5;66;03m# Question 7 - Print all the column header of the dataframe\u001b[39;00m\n\u001b[0;32m----> 2\u001b[0m \u001b[43mflightdf\u001b[49m\u001b[38;5;241m.\u001b[39mcolumns\n",
      "\u001b[0;31mNameError\u001b[0m: name 'flightdf' is not defined"
     ]
    }
   ],
   "source": [
    "# Question 7 - Print all the column header of the dataframe\n",
    "flightdf.columns"
   ]
  },
  {
   "cell_type": "code",
   "execution_count": 11,
   "id": "41d00b8b",
   "metadata": {},
   "outputs": [
    {
     "ename": "NameError",
     "evalue": "name 'flightdf' is not defined",
     "output_type": "error",
     "traceback": [
      "\u001b[0;31m---------------------------------------------------------------------------\u001b[0m",
      "\u001b[0;31mNameError\u001b[0m                                 Traceback (most recent call last)",
      "Input \u001b[0;32mIn [11]\u001b[0m, in \u001b[0;36m<cell line: 2>\u001b[0;34m()\u001b[0m\n\u001b[1;32m      1\u001b[0m \u001b[38;5;66;03m# Question 8 - Remove all the duplicate values from the data frame\u001b[39;00m\n\u001b[0;32m----> 2\u001b[0m \u001b[43mflightdf\u001b[49m\u001b[38;5;241m.\u001b[39mduplicated()\u001b[38;5;241m.\u001b[39msum()\n",
      "\u001b[0;31mNameError\u001b[0m: name 'flightdf' is not defined"
     ]
    }
   ],
   "source": [
    "# Question 8 - Remove all the duplicate values from the data frame\n",
    "flightdf.duplicated().sum()\n"
   ]
  },
  {
   "cell_type": "code",
   "execution_count": 12,
   "id": "71bd98e4",
   "metadata": {},
   "outputs": [
    {
     "ename": "NameError",
     "evalue": "name 'flightdf' is not defined",
     "output_type": "error",
     "traceback": [
      "\u001b[0;31m---------------------------------------------------------------------------\u001b[0m",
      "\u001b[0;31mNameError\u001b[0m                                 Traceback (most recent call last)",
      "Input \u001b[0;32mIn [12]\u001b[0m, in \u001b[0;36m<cell line: 2>\u001b[0;34m()\u001b[0m\n\u001b[1;32m      1\u001b[0m \u001b[38;5;66;03m# there is no duplicate values in dataset but here is the code for remove duplicates\u001b[39;00m\n\u001b[0;32m----> 2\u001b[0m \u001b[43mflightdf\u001b[49m\u001b[38;5;241m.\u001b[39mdrop_duplicates(inplace\u001b[38;5;241m=\u001b[39m\u001b[38;5;28;01mTrue\u001b[39;00m)\n",
      "\u001b[0;31mNameError\u001b[0m: name 'flightdf' is not defined"
     ]
    }
   ],
   "source": [
    "# there is no duplicate values in dataset but here is the code for remove duplicates\n",
    "flightdf.drop_duplicates(inplace=True)"
   ]
  },
  {
   "cell_type": "code",
   "execution_count": 13,
   "id": "ca26cb7e",
   "metadata": {},
   "outputs": [
    {
     "ename": "NameError",
     "evalue": "name 'flightdf' is not defined",
     "output_type": "error",
     "traceback": [
      "\u001b[0;31m---------------------------------------------------------------------------\u001b[0m",
      "\u001b[0;31mNameError\u001b[0m                                 Traceback (most recent call last)",
      "Input \u001b[0;32mIn [13]\u001b[0m, in \u001b[0;36m<cell line: 2>\u001b[0;34m()\u001b[0m\n\u001b[1;32m      1\u001b[0m \u001b[38;5;66;03m# Question 9 - Count the null values in the database and replace with mean value.\u001b[39;00m\n\u001b[0;32m----> 2\u001b[0m \u001b[43mflightdf\u001b[49m\u001b[38;5;241m.\u001b[39misnull()\u001b[38;5;241m.\u001b[39msum()\n",
      "\u001b[0;31mNameError\u001b[0m: name 'flightdf' is not defined"
     ]
    }
   ],
   "source": [
    "# Question 9 - Count the null values in the database and replace with mean value.\n",
    "flightdf.isnull().sum()"
   ]
  },
  {
   "cell_type": "code",
   "execution_count": 14,
   "id": "1b0c10d7",
   "metadata": {},
   "outputs": [
    {
     "ename": "NameError",
     "evalue": "name 'flightdf' is not defined",
     "output_type": "error",
     "traceback": [
      "\u001b[0;31m---------------------------------------------------------------------------\u001b[0m",
      "\u001b[0;31mNameError\u001b[0m                                 Traceback (most recent call last)",
      "Input \u001b[0;32mIn [14]\u001b[0m, in \u001b[0;36m<cell line: 2>\u001b[0;34m()\u001b[0m\n\u001b[1;32m      1\u001b[0m \u001b[38;5;66;03m# there is null values in arr_delay\u001b[39;00m\n\u001b[0;32m----> 2\u001b[0m ardelay \u001b[38;5;241m=\u001b[39m \u001b[43mflightdf\u001b[49m[\u001b[38;5;124m'\u001b[39m\u001b[38;5;124marr_delay\u001b[39m\u001b[38;5;124m'\u001b[39m]\n\u001b[1;32m      3\u001b[0m ardelay\u001b[38;5;241m.\u001b[39mfillna(ardelay\u001b[38;5;241m.\u001b[39mmedian(),inplace\u001b[38;5;241m=\u001b[39m\u001b[38;5;28;01mTrue\u001b[39;00m)\n",
      "\u001b[0;31mNameError\u001b[0m: name 'flightdf' is not defined"
     ]
    }
   ],
   "source": [
    "# there is null values in arr_delay\n",
    "ardelay = flightdf['arr_delay']\n",
    "ardelay.fillna(ardelay.median(),inplace=True)"
   ]
  },
  {
   "cell_type": "code",
   "execution_count": 15,
   "id": "0bc9f8a9",
   "metadata": {},
   "outputs": [
    {
     "ename": "NameError",
     "evalue": "name 'ardelay' is not defined",
     "output_type": "error",
     "traceback": [
      "\u001b[0;31m---------------------------------------------------------------------------\u001b[0m",
      "\u001b[0;31mNameError\u001b[0m                                 Traceback (most recent call last)",
      "Input \u001b[0;32mIn [15]\u001b[0m, in \u001b[0;36m<cell line: 1>\u001b[0;34m()\u001b[0m\n\u001b[0;32m----> 1\u001b[0m \u001b[43mardelay\u001b[49m\u001b[38;5;241m.\u001b[39misnull()\u001b[38;5;241m.\u001b[39msum()\n",
      "\u001b[0;31mNameError\u001b[0m: name 'ardelay' is not defined"
     ]
    }
   ],
   "source": [
    "ardelay.isnull().sum()"
   ]
  },
  {
   "cell_type": "code",
   "execution_count": 16,
   "id": "3afbcf9d",
   "metadata": {},
   "outputs": [
    {
     "ename": "NameError",
     "evalue": "name 'flightdf' is not defined",
     "output_type": "error",
     "traceback": [
      "\u001b[0;31m---------------------------------------------------------------------------\u001b[0m",
      "\u001b[0;31mNameError\u001b[0m                                 Traceback (most recent call last)",
      "Input \u001b[0;32mIn [16]\u001b[0m, in \u001b[0;36m<cell line: 1>\u001b[0;34m()\u001b[0m\n\u001b[0;32m----> 1\u001b[0m \u001b[43mflightdf\u001b[49m\n",
      "\u001b[0;31mNameError\u001b[0m: name 'flightdf' is not defined"
     ]
    }
   ],
   "source": [
    "flightdf"
   ]
  },
  {
   "cell_type": "code",
   "execution_count": null,
   "id": "6cb9c25c",
   "metadata": {},
   "outputs": [],
   "source": []
  }
 ],
 "metadata": {
  "kernelspec": {
   "display_name": "Python 3 (ipykernel)",
   "language": "python",
   "name": "python3"
  },
  "language_info": {
   "codemirror_mode": {
    "name": "ipython",
    "version": 3
   },
   "file_extension": ".py",
   "mimetype": "text/x-python",
   "name": "python",
   "nbconvert_exporter": "python",
   "pygments_lexer": "ipython3",
   "version": "3.9.12"
  }
 },
 "nbformat": 4,
 "nbformat_minor": 5
}
